{
 "cells": [
  {
   "cell_type": "code",
   "execution_count": 1,
   "id": "5a50151c-7462-4104-97d2-1c830b80fe43",
   "metadata": {},
   "outputs": [],
   "source": [
    "#Necessary Imports for Data Cleaning and Analysis\n",
    "import pandas as pd\n",
    "import numpy as np\n",
    "import matplotlib.pyplot as plt\n",
    "import seaborn as sns\n",
    "import re\n",
    "import pandas as pd\n",
    "pd.set_option('display.max_rows', None)"
   ]
  },
  {
   "cell_type": "code",
   "execution_count": 3,
   "id": "a7ab1270-2a87-4d02-8249-f1ecb94c8f31",
   "metadata": {},
   "outputs": [
    {
     "data": {
      "text/plain": [
       "(17880, 74)"
      ]
     },
     "execution_count": 3,
     "metadata": {},
     "output_type": "execute_result"
    }
   ],
   "source": [
    "job_df = pd.read_csv('cleaned_fake_job_postings.csv')\n",
    "job_df.shape"
   ]
  },
  {
   "cell_type": "code",
   "execution_count": 5,
   "id": "6f1c9910-99c4-4f7d-9607-4c4a327bb3e4",
   "metadata": {},
   "outputs": [
    {
     "data": {
      "text/plain": [
       "866"
      ]
     },
     "execution_count": 5,
     "metadata": {},
     "output_type": "execute_result"
    }
   ],
   "source": [
    "num_fake_jobs = job_df['fraudulent'].sum()\n",
    "num_fake_jobs"
   ]
  },
  {
   "cell_type": "code",
   "execution_count": 7,
   "id": "717e1a98-9a31-4ca9-8187-a0a9379c3e4a",
   "metadata": {},
   "outputs": [],
   "source": [
    "#Industry Column\n",
    "from sklearn.preprocessing import OneHotEncoder\n",
    "\n",
    "# Initialize the encoder with drop='first' to remove the reference category\n",
    "encoder = OneHotEncoder(sparse_output=False, drop='first')\n",
    "\n",
    "# Fit and transform the 'Standardized_Industry' column\n",
    "encoded_array = encoder.fit_transform(job_df[['Standardized_Industry']])\n",
    "\n",
    "# Convert the array into a DataFrame with named columns\n",
    "encoded_df = pd.DataFrame(encoded_array, columns=encoder.get_feature_names_out(['Standardized_Industry']))\n",
    "\n",
    "# Concatenate the original DataFrame with the encoded DataFrame\n",
    "job_df = pd.concat([job_df, encoded_df], axis=1)\n",
    "\n",
    "# Optionally, drop the original categorical column\n",
    "job_df.drop(columns=['Standardized_Industry'], inplace=True)\n"
   ]
  },
  {
   "cell_type": "code",
   "execution_count": 9,
   "id": "6fa4b697-f26a-455e-9424-281e2956044e",
   "metadata": {},
   "outputs": [],
   "source": [
    "#Department Column\n",
    "\n",
    "# Fit and transform the 'Standardized_Industry' column\n",
    "encoded_array = encoder.fit_transform(job_df[['Standardized_Department']])\n",
    "\n",
    "# Convert the array into a DataFrame with named columns\n",
    "encoded_df = pd.DataFrame(encoded_array, columns=encoder.get_feature_names_out(['Standardized_Department']))\n",
    "\n",
    "# Concatenate the original DataFrame with the encoded DataFrame\n",
    "job_df = pd.concat([job_df, encoded_df], axis=1)\n",
    "\n",
    "# Optionally, drop the original categorical column\n",
    "job_df.drop(columns=['Standardized_Department'], inplace=True)"
   ]
  },
  {
   "cell_type": "code",
   "execution_count": 11,
   "id": "b090f932-b6e8-4193-9c87-d0e6f1169b05",
   "metadata": {},
   "outputs": [],
   "source": [
    "job_df = job_df.loc[:, ~job_df.columns.duplicated()]"
   ]
  },
  {
   "cell_type": "code",
   "execution_count": 13,
   "id": "7d569971-5f4e-481e-8f84-f9ce21838293",
   "metadata": {},
   "outputs": [
    {
     "name": "stdout",
     "output_type": "stream",
     "text": [
      "fraudulent\n",
      "0    1732\n",
      "1    1732\n",
      "Name: count, dtype: int64\n"
     ]
    }
   ],
   "source": [
    "#Balancing the data\n",
    "import pandas as pd\n",
    "from sklearn.utils import resample\n",
    "\n",
    "# Split data\n",
    "fake_jobs = job_df[job_df['fraudulent'] == 1]  # Minority class (fake)\n",
    "real_jobs = job_df[job_df['fraudulent'] == 0]  # Majority class (real)\n",
    "\n",
    "# Define sampling strategy (e.g., real jobs = 2x fake jobs)\n",
    "undersample_real = real_jobs.sample(n=2 * len(fake_jobs), random_state=42)  # Undersample real jobs\n",
    "oversample_fake = resample(fake_jobs, replace=True, n_samples=len(undersample_real), random_state=42)  # Oversample fake jobs\n",
    "\n",
    "# Combine into balanced dataset\n",
    "balanced_df = pd.concat([undersample_real, oversample_fake])\n",
    "\n",
    "# Verify balance\n",
    "print(balanced_df['fraudulent'].value_counts())"
   ]
  },
  {
   "cell_type": "code",
   "execution_count": 15,
   "id": "a00dc42d-96ec-4c9b-a362-5da7a70e2852",
   "metadata": {},
   "outputs": [
    {
     "data": {
      "text/plain": [
       "(3464, 72)"
      ]
     },
     "execution_count": 15,
     "metadata": {},
     "output_type": "execute_result"
    }
   ],
   "source": [
    "balanced_df.shape"
   ]
  },
  {
   "cell_type": "code",
   "execution_count": 17,
   "id": "c9be2242-1ea9-4933-b256-a2e7bedd1e8e",
   "metadata": {},
   "outputs": [
    {
     "name": "stdout",
     "output_type": "stream",
     "text": [
      "All attributes/columns in balanced_df:\n",
      "['job_id', 'title', 'location', 'department', 'Standardized_Department_Administrative', 'Standardized_Department_Business Consulting', 'Standardized_Department_Creative & Design', 'Standardized_Department_Customer Service', 'Standardized_Department_Education & Training', 'Standardized_Department_Engineering', 'Standardized_Department_Finance & Accounting', 'Standardized_Department_Government & Public Sector', 'Standardized_Department_Healthcare', 'Standardized_Department_Hospitality & Food Services', 'Standardized_Department_Human Resources', 'Standardized_Department_IT', 'Standardized_Department_Legal & Compliance', 'Standardized_Department_Logistics & Supply Chain', 'Standardized_Department_Manufacturing & Production', 'Standardized_Department_Marketing', 'Standardized_Department_Media & Communications', 'Standardized_Department_Not Provided', 'Standardized_Department_Operations', 'Standardized_Department_Product Management & Development', 'Standardized_Department_Project Management', 'Standardized_Department_Quality Assurance & Testing', 'Standardized_Department_Research & Development', 'Standardized_Department_Retail & Consumer', 'Standardized_Department_Sales', 'Standardized_Department_Technology', 'salary_range', 'salary_diff', 'company_profile', 'description', 'job_desc_length', 'requirements', 'benefits', 'telecommuting', 'has_company_logo', 'has_questions', 'employment_type', 'employment_encoded', 'required_experience', 'experience_encoded', 'required_education', 'education_encoded', 'industry', 'Standardized_Industry_Agriculture', 'Standardized_Industry_Automotive', 'Standardized_Industry_Construction', 'Standardized_Industry_Consulting', 'Standardized_Industry_Consumer Goods', 'Standardized_Industry_Education', 'Standardized_Industry_Electronics', 'Standardized_Industry_Engineering', 'Standardized_Industry_Entertainment', 'Standardized_Industry_Environmental Services', 'Standardized_Industry_Finance', 'Standardized_Industry_Government', 'Standardized_Industry_Health Care', 'Standardized_Industry_IT Services', 'Standardized_Industry_Law', 'Standardized_Industry_Marketing', 'Standardized_Industry_Media', 'Standardized_Industry_Nonprofit', 'Standardized_Industry_Not Provided', 'Standardized_Industry_Real Estate', 'Standardized_Industry_Retail', 'Standardized_Industry_Security', 'Standardized_Industry_Transportation', 'function', 'fraudulent']\n"
     ]
    }
   ],
   "source": [
    "# Get all column names\n",
    "print(\"All attributes/columns in balanced_df:\")\n",
    "print(balanced_df.columns.tolist())"
   ]
  },
  {
   "cell_type": "code",
   "execution_count": 19,
   "id": "eaca69e9-7c84-4554-8a21-bf758ce39636",
   "metadata": {},
   "outputs": [],
   "source": [
    "balanced_df.to_csv('balanced_df.csv', index=False)"
   ]
  },
  {
   "cell_type": "code",
   "execution_count": 21,
   "id": "61432caf-ebdd-451d-adce-00dccf0cc600",
   "metadata": {},
   "outputs": [],
   "source": [
    "import pandas as pd\n",
    "import numpy as np\n",
    "import scipy.stats as stats\n",
    "from itertools import combinations\n",
    "\n",
    "def cramers_v(x, y):\n",
    "    confusion_matrix = pd.crosstab(x, y)\n",
    "    chi2 = stats.chi2_contingency(confusion_matrix)[0]\n",
    "    n = confusion_matrix.sum().sum()\n",
    "    phi2 = chi2 / n\n",
    "    r, k = confusion_matrix.shape\n",
    "    phi2corr = max(0, phi2 - ((k-1)*(r-1))/(n-1))\n",
    "    rcorr = r - ((r-1)**2)/(n-1)\n",
    "    kcorr = k - ((k-1)**2)/(n-1)\n",
    "    return np.sqrt(phi2corr / min((kcorr-1), (rcorr-1)))\n",
    "\n",
    "# Load your DataFrame (assuming it's already created as balanced_df)\n",
    "# balanced_df = pd.read_csv('your_file.csv')\n",
    "\n",
    "# Separate numerical and categorical columns\n",
    "numerical_cols = balanced_df.select_dtypes(include=np.number).columns.tolist()\n",
    "categorical_cols = [col for col in balanced_df.columns if col not in numerical_cols]\n",
    "\n",
    "# --- Numerical vs. Numerical (Pearson Correlation) ---\n",
    "num_num_correlations = balanced_df[numerical_cols].corr(method='pearson')\n",
    "\n",
    "# print(\"\\nNumerical vs. Numerical Correlation (Pearson):\\n\", num_num_correlations)\n",
    "\n",
    "# Identify highly correlated pairs (absolute value > 0.7)\n",
    "high_num_num_corr = {}\n",
    "for i, col in enumerate(numerical_cols):\n",
    "    for j in range(i+1, len(numerical_cols)):\n",
    "        col2 = numerical_cols[j]\n",
    "        corr_val = num_num_correlations.loc[col, col2]\n",
    "        if abs(corr_val) > 0.7:\n",
    "            high_num_num_corr[(col, col2)] = corr_val\n",
    "\n",
    "# print(\"\\nHighly Correlated Numerical Pairs (Pearson > 0.7):\\n\", high_num_num_corr)\n",
    "\n",
    "# --- Categorical vs. Categorical (Cramer's V) ---\n",
    "cat_cat_correlations = {}\n",
    "for col1, col2 in combinations(categorical_cols, 2):\n",
    "    cat_cat_correlations[(col1, col2)] = cramers_v(balanced_df[col1], balanced_df[col2])\n",
    "\n",
    "# print(\"\\nCategorical vs. Categorical Correlation (Cramer's V):\\n\", cat_cat_correlations)\n",
    "\n",
    "# Identify highly correlated pairs (Cramer's V > 0.7)\n",
    "high_cat_cat_corr = {k: v for k, v in cat_cat_correlations.items() if v > 0.7}\n",
    "\n",
    "# print(\"\\nHighly Correlated Categorical Pairs (Cramer's V > 0.7):\\n\", high_cat_cat_corr)\n",
    "\n",
    "# --- Numerical vs. Categorical ---\n",
    "\n",
    "#For numerical vs categorical correlation, additional analysis is needed such as ANOVA or point-biserial correlation\n"
   ]
  },
  {
   "cell_type": "code",
   "execution_count": 23,
   "id": "b6fa7660-9700-4ba3-a6cd-326973b31aff",
   "metadata": {},
   "outputs": [
    {
     "name": "stdout",
     "output_type": "stream",
     "text": [
      "Top 34 attributes to consider for model training (excluding job_id and Standardized Industry):\n",
      " ['Standardized_Department_Project Management', 'Standardized_Department_Hospitality & Food Services', 'Standardized_Department_Product Management & Development', 'Standardized_Department_Government & Public Sector', 'Standardized_Department_Human Resources', 'Standardized_Department_Operations', 'Standardized_Department_Logistics & Supply Chain', 'Standardized_Department_Administrative', 'Standardized_Department_Education & Training', 'Standardized_Department_Customer Service', 'Standardized_Department_Research & Development', 'Standardized_Department_Retail & Consumer', 'Standardized_Department_Finance & Accounting', 'Standardized_Department_Healthcare', 'Standardized_Department_Quality Assurance & Testing', 'Standardized_Department_IT', 'Standardized_Department_Engineering', 'Standardized_Department_Technology', 'Standardized_Department_Creative & Design', 'Standardized_Department_Legal & Compliance', 'Standardized_Department_Marketing', 'Standardized_Department_Media & Communications', 'Standardized_Department_Business Consulting', 'employment_encoded', 'salary_diff', 'Standardized_Department_Manufacturing & Production', 'has_questions', 'has_company_logo', 'telecommuting', 'job_desc_length', 'education_encoded', 'Standardized_Department_Sales', 'experience_encoded', 'Standardized_Department_Not Provided']\n"
     ]
    }
   ],
   "source": [
    "import pandas as pd\n",
    "import numpy as np\n",
    "from sklearn.preprocessing import StandardScaler\n",
    "from sklearn.decomposition import PCA\n",
    "\n",
    "# Assuming your DataFrame is already loaded as balanced_df\n",
    "\n",
    "# Identify Standardized Industry columns for dropping\n",
    "industry_cols = [col for col in balanced_df.columns if col.startswith('Standardized_Industry')]\n",
    "\n",
    "# Separate features (X) and target (y)\n",
    "X = balanced_df.drop(['fraudulent', 'job_id'] + industry_cols, axis=1, errors='ignore')\n",
    "y = balanced_df['fraudulent']\n",
    "\n",
    "# Select only numeric features for PCA\n",
    "X_numeric = X.select_dtypes(include=np.number)\n",
    "\n",
    "# Handle missing values by filling with the mean\n",
    "X_numeric = X_numeric.fillna(X_numeric.mean())\n",
    "\n",
    "# Store the original attribute names before scaling\n",
    "attribute_names = list(X_numeric.columns)\n",
    "\n",
    "# Standardize the features\n",
    "scaler = StandardScaler()\n",
    "X_scaled = scaler.fit_transform(X_numeric)\n",
    "\n",
    "# Apply PCA\n",
    "pca = PCA()\n",
    "X_pca = pca.fit_transform(X_scaled)\n",
    "\n",
    "# Create a DataFrame for the PCA components\n",
    "pca_df = pd.DataFrame(data=X_pca, index=X_numeric.index, columns=[f'PC{i+1}' for i in range(X_pca.shape[1])])\n",
    "\n",
    "# Reset indices to ensure they're unique before concatenation\n",
    "pca_df = pca_df.reset_index(drop=True)\n",
    "y = y.reset_index(drop=True)\n",
    "\n",
    "# Concatenate PCA components with target variable\n",
    "final_df = pd.concat([pca_df, y], axis=1)\n",
    "\n",
    "# Calculate correlation between PCA components and target variable\n",
    "correlations = final_df.corr()['fraudulent'].sort_values(ascending=False)\n",
    "\n",
    "# Get loadings (correlation between original variables and PCs)\n",
    "loadings = pca.components_.T * np.sqrt(pca.explained_variance_)\n",
    "\n",
    "# Create DataFrame to show attribute names with loadings for each PC\n",
    "loadings_df = pd.DataFrame(loadings,\n",
    "                         index=attribute_names,\n",
    "                         columns=[f'PC{i+1}' for i in range(pca.n_components_)])\n",
    "\n",
    "# Ensure the index is unique\n",
    "if not loadings_df.index.is_unique:\n",
    "    loadings_df = loadings_df[~loadings_df.index.duplicated(keep='first')]\n",
    "\n",
    "# Get the top 45 components\n",
    "top_45_components = correlations[1:35].index.tolist()\n",
    "\n",
    "# Find attributes with highest average absolute loading across top 45 components\n",
    "avg_abs_loadings = loadings_df[top_45_components].abs().mean(axis=1)\n",
    "\n",
    "# Get top 45 attributes\n",
    "top_45_attributes = avg_abs_loadings.nlargest(45).index.tolist()\n",
    "\n",
    "# Print the top 45 attributes\n",
    "print(\"Top 34 attributes to consider for model training (excluding job_id and Standardized Industry):\\n\", top_45_attributes)"
   ]
  },
  {
   "cell_type": "code",
   "execution_count": 25,
   "id": "a4f3c568-2bfa-424f-a3ca-22052e72b087",
   "metadata": {},
   "outputs": [
    {
     "name": "stdout",
     "output_type": "stream",
     "text": [
      "Validation Accuracy: 0.8923\n",
      "\n",
      "Validation Classification Report:\n",
      "              precision    recall  f1-score   support\n",
      "\n",
      "           0       0.94      0.85      0.89       265\n",
      "           1       0.85      0.94      0.90       255\n",
      "\n",
      "    accuracy                           0.89       520\n",
      "   macro avg       0.90      0.89      0.89       520\n",
      "weighted avg       0.90      0.89      0.89       520\n",
      "\n",
      "\n",
      "Test Accuracy: 0.8808\n",
      "\n",
      "Test Classification Report:\n",
      "              precision    recall  f1-score   support\n",
      "\n",
      "           0       0.91      0.87      0.89       283\n",
      "           1       0.85      0.89      0.87       237\n",
      "\n",
      "    accuracy                           0.88       520\n",
      "   macro avg       0.88      0.88      0.88       520\n",
      "weighted avg       0.88      0.88      0.88       520\n",
      "\n",
      "\n",
      "Top 10 Most Important Features:\n",
      "                                              Feature  Importance\n",
      "27                                   has_company_logo    0.339899\n",
      "16                Standardized_Department_Engineering    0.079817\n",
      "30                                  education_encoded    0.072197\n",
      "15                         Standardized_Department_IT    0.049420\n",
      "2   Standardized_Department_Product Management & D...    0.045711\n",
      "31                      Standardized_Department_Sales    0.042799\n",
      "32                                 experience_encoded    0.041735\n",
      "12       Standardized_Department_Finance & Accounting    0.038003\n",
      "24                                        salary_diff    0.036230\n",
      "20                  Standardized_Department_Marketing    0.035204\n",
      "Model saved as xgb_fraud_model.pkl\n"
     ]
    },
    {
     "name": "stderr",
     "output_type": "stream",
     "text": [
      "C:\\Users\\HP\\AppData\\Roaming\\Python\\Python312\\site-packages\\xgboost\\training.py:183: UserWarning: [19:37:22] WARNING: C:\\actions-runner\\_work\\xgboost\\xgboost\\src\\learner.cc:738: \n",
      "Parameters: { \"use_label_encoder\" } are not used.\n",
      "\n",
      "  bst.update(dtrain, iteration=i, fobj=obj)\n"
     ]
    }
   ],
   "source": [
    "import pandas as pd\n",
    "import numpy as np\n",
    "import joblib\n",
    "from sklearn.model_selection import train_test_split\n",
    "from sklearn.impute import SimpleImputer\n",
    "from xgboost import XGBClassifier\n",
    "from sklearn.metrics import accuracy_score, classification_report, confusion_matrix\n",
    "\n",
    "top_45_attributes = [\n",
    "    'Standardized_Department_Project Management',\n",
    "    'Standardized_Department_Hospitality & Food Services', \n",
    "    'Standardized_Department_Product Management & Development', \n",
    "    'Standardized_Department_Government & Public Sector', \n",
    "    'Standardized_Department_Human Resources',\n",
    "    'Standardized_Department_Operations', \n",
    "    'Standardized_Department_Logistics & Supply Chain', \n",
    "    'Standardized_Department_Administrative',\n",
    "    'Standardized_Department_Education & Training', \n",
    "    'Standardized_Department_Customer Service',\n",
    "    'Standardized_Department_Research & Development',\n",
    "    'Standardized_Department_Retail & Consumer',\n",
    "    'Standardized_Department_Finance & Accounting',\n",
    "    'Standardized_Department_Healthcare',\n",
    "    'Standardized_Department_Quality Assurance & Testing',\n",
    "    'Standardized_Department_IT',\n",
    "    'Standardized_Department_Engineering',\n",
    "    'Standardized_Department_Technology',\n",
    "    'Standardized_Department_Creative & Design', \n",
    "    'Standardized_Department_Legal & Compliance', \n",
    "    'Standardized_Department_Marketing',\n",
    "    'Standardized_Department_Media & Communications',\n",
    "    'Standardized_Department_Business Consulting',\n",
    "    'employment_encoded',\n",
    "    'salary_diff',\n",
    "    'Standardized_Department_Manufacturing & Production', \n",
    "    'has_questions', 'has_company_logo',\n",
    "    'telecommuting', 'job_desc_length',\n",
    "    'education_encoded', \n",
    "    'Standardized_Department_Sales', \n",
    "    'experience_encoded', \n",
    "    'Standardized_Department_Not Provided'\n",
    "\n",
    "]\n",
    "\n",
    "filtered_df = balanced_df[top_45_attributes + ['fraudulent']]\n",
    "\n",
    "# Split into train, validation, and test sets (70/15/15 split)\n",
    "train_df, temp_df = train_test_split(filtered_df, test_size=0.3, random_state=42)\n",
    "val_df, test_df = train_test_split(temp_df, test_size=0.5, random_state=42)\n",
    "\n",
    "# Separate features and target for each set\n",
    "X_train = train_df.drop('fraudulent', axis=1)\n",
    "y_train = train_df['fraudulent']\n",
    "\n",
    "X_val = val_df.drop('fraudulent', axis=1)\n",
    "y_val = val_df['fraudulent']\n",
    "\n",
    "X_test = test_df.drop('fraudulent', axis=1)\n",
    "y_test = test_df['fraudulent']\n",
    "\n",
    "# Impute missing values (using mean strategy)\n",
    "imputer = SimpleImputer(strategy='mean')\n",
    "X_train_imputed = imputer.fit_transform(X_train)\n",
    "X_val_imputed = imputer.transform(X_val)\n",
    "X_test_imputed = imputer.transform(X_test)\n",
    "\n",
    "# Initialize XGBoost model\n",
    "xgb_model = XGBClassifier(\n",
    "    random_state=42,\n",
    "    eval_metric='logloss',\n",
    "    use_label_encoder=False,\n",
    "    # You can add other hyperparameters here\n",
    "    # n_estimators=100,\n",
    "    # max_depth=3,\n",
    "    # learning_rate=0.1\n",
    ")\n",
    "\n",
    "# Train the model\n",
    "xgb_model.fit(X_train_imputed, y_train)\n",
    "\n",
    "# Evaluate on validation set\n",
    "y_val_pred = xgb_model.predict(X_val_imputed)\n",
    "val_accuracy = accuracy_score(y_val, y_val_pred)\n",
    "print(f\"Validation Accuracy: {val_accuracy:.4f}\")\n",
    "print(\"\\nValidation Classification Report:\")\n",
    "print(classification_report(y_val, y_val_pred))\n",
    "\n",
    "# Evaluate on test set (final evaluation)\n",
    "y_test_pred = xgb_model.predict(X_test_imputed)\n",
    "test_accuracy = accuracy_score(y_test, y_test_pred)\n",
    "print(f\"\\nTest Accuracy: {test_accuracy:.4f}\")\n",
    "print(\"\\nTest Classification Report:\")\n",
    "print(classification_report(y_test, y_test_pred))\n",
    "\n",
    "# Feature importance\n",
    "importance = xgb_model.feature_importances_\n",
    "feature_importance_df = pd.DataFrame({\n",
    "    'Feature': X_train.columns,\n",
    "    'Importance': importance\n",
    "}).sort_values('Importance', ascending=False)\n",
    "\n",
    "print(\"\\nTop 10 Most Important Features:\")\n",
    "print(feature_importance_df.head(10))\n",
    "\n",
    "joblib.dump(xgb_model, 'xgb_fraud_model.pkl')\n",
    "print(\"Model saved as xgb_fraud_model.pkl\")"
   ]
  },
  {
   "cell_type": "code",
   "execution_count": 27,
   "id": "df6f8d78-7462-4785-b699-b8e59f8ce2ac",
   "metadata": {},
   "outputs": [
    {
     "name": "stdout",
     "output_type": "stream",
     "text": [
      "Confusion Matrix:\n",
      "[[224  41]\n",
      " [ 15 240]]\n"
     ]
    },
    {
     "data": {
      "image/png": "[encoded data removed]",
      "text/plain": [
       "<Figure size 640x480 with 2 Axes>"
      ]
     },
     "metadata": {},
     "output_type": "display_data"
    }
   ],
   "source": [
    "from sklearn.metrics import confusion_matrix\n",
    "import seaborn as sns\n",
    "import matplotlib.pyplot as plt\n",
    "\n",
    "# Predict on the validation set\n",
    "y_val_pred = xgb_model.predict(X_val_imputed)\n",
    "\n",
    "# Compute the confusion matrix\n",
    "cm = confusion_matrix(y_val, y_val_pred)\n",
    "\n",
    "# Print the confusion matrix\n",
    "print(\"Confusion Matrix:\")\n",
    "print(cm)\n",
    "\n",
    "# Visualize the confusion matrix\n",
    "sns.heatmap(cm, annot=True, fmt='d', cmap='Blues')\n",
    "plt.xlabel('Predicted Labels')\n",
    "plt.ylabel('True Labels')\n",
    "plt.title('XGBoost Confusion Matrix')\n",
    "plt.show()\n"
   ]
  },
  {
   "cell_type": "code",
   "execution_count": null,
   "id": "f28b4e2d-df05-4dfc-9a55-fb666d7b7798",
   "metadata": {},
   "outputs": [],
   "source": [
    "job_df = pd.read_csv('cleaned_fake_job_postings.csv')\n",
    "job_df.shape"
   ]
  },
  {
   "cell_type": "code",
   "execution_count": null,
   "id": "d0e4ee4a",
   "metadata": {},
   "outputs": [],
   "source": [
    "from sklearn.metrics import confusion_matrix\n",
    "import seaborn as sns\n",
    "import matplotlib.pyplot as plt\n",
    "\n",
    "# Predict on the validation set\n",
    "y_val_pred = xgb_model.predict(X_val_imputed)\n",
    "\n",
    "# Compute the confusion matrix\n",
    "cm = confusion_matrix(y_val, y_val_pred)\n",
    "\n",
    "# Print the confusion matrix\n",
    "print(\"Confusion Matrix:\")\n",
    "print(cm)\n",
    "\n",
    "# Visualize the confusion matrix\n",
    "sns.heatmap(cm, annot=True, fmt='d', cmap='Blues')\n",
    "plt.xlabel('Predicted Labels')\n",
    "plt.ylabel('True Labels')\n",
    "plt.title('XGBoost Confusion Matrix')\n",
    "plt.show()\n"
   ]
  }
 ],
 "metadata": {
  "kernelspec": {
   "display_name": "Python 3 (ipykernel)",
   "language": "python",
   "name": "python3"
  },
  "language_info": {
   "codemirror_mode": {
    "name": "ipython",
    "version": 3
   },
   "file_extension": ".py",
   "mimetype": "text/x-python",
   "name": "python",
   "nbconvert_exporter": "python",
   "pygments_lexer": "ipython3",
   "version": "3.11.5"
  }
 },
 "nbformat": 4,
 "nbformat_minor": 5
}
